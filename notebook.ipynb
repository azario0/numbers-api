{
 "cells": [
  {
   "cell_type": "markdown",
   "metadata": {},
   "source": [
    "Le siteweb : http://numbersapi.com"
   ]
  },
  {
   "cell_type": "markdown",
   "metadata": {},
   "source": [
    "# On import les librairies"
   ]
  },
  {
   "cell_type": "code",
   "execution_count": null,
   "metadata": {},
   "outputs": [],
   "source": [
    "import requests\n",
    "import random"
   ]
  },
  {
   "cell_type": "markdown",
   "metadata": {},
   "source": [
    "# On cree une simple requete"
   ]
  },
  {
   "cell_type": "code",
   "execution_count": 25,
   "metadata": {},
   "outputs": [
    {
     "name": "stdout",
     "output_type": "stream",
     "text": [
      "3 is the number of consecutive successful attempts in a hat trick in sports.\n",
      "49 is the number of days and night Siddhartha Gautama spent meditating as a holy man.\n",
      "31 is the number of flavors of Baskin-Robbins ice cream.\n",
      "53 is the port number of UDP and TCP for the Domain Name System protocol.\n",
      "88 is the pounds of oxygen that the adult human body requires daily.\n"
     ]
    }
   ],
   "source": [
    "for i in range(5):\n",
    "    number = random.randint(0,100)\n",
    "    url = f\"http://numbersapi.com/{number}\"\n",
    "    response = requests.get(url)\n",
    "    text = response.content.decode(\"utf-8\")\n",
    "    print(text)"
   ]
  },
  {
   "cell_type": "markdown",
   "metadata": {},
   "source": [
    "# On essaye la date"
   ]
  },
  {
   "cell_type": "code",
   "execution_count": 24,
   "metadata": {},
   "outputs": [
    {
     "name": "stdout",
     "output_type": "stream",
     "text": [
      "February 20th is the day in 1798 that Louis Alexandre Berthier removes Pope Pius VI from power.\n",
      "July 14th is the day in 1916 that Start of the Battle of Delville Wood as an action within the Battle of the Somme, which was to last until 3 September 1916.\n",
      "October 14th is the day in 1958 that the District of Columbia's Bar Association votes to accept African-Americans as member attorneys.\n",
      "April 18th is the day in 1930 that BBC Radio announces that there is no news on that day.\n",
      "March 16th is the day in 1950 that Communist Czechoslovakia's ministry of foreign affairs asked nuncios of Vatican to leave the country.\n"
     ]
    }
   ],
   "source": [
    "for i in range(5):\n",
    "    day = random.randint(0,30)\n",
    "    month = random.randint(0,13)\n",
    "    url = f\"http://numbersapi.com/{month}/{day}/date\"\n",
    "    response = requests.get(url)\n",
    "    text = response.content.decode(\"utf-8\")\n",
    "    print(text)"
   ]
  },
  {
   "cell_type": "markdown",
   "metadata": {},
   "source": [
    "# On essaye math"
   ]
  },
  {
   "cell_type": "code",
   "execution_count": 26,
   "metadata": {},
   "outputs": [
    {
     "name": "stdout",
     "output_type": "stream",
     "text": [
      "25 is also a Cullen number.\n",
      "72 is the maximum number of spheres that can touch another sphere in a lattice packing in 6 dimensions.\n",
      "71 is the algebraic degree of Conway's constant, a remarkable number arising in the study of look-and-say sequences.\n",
      "38 is the 11th distinct semiprime and the 7th in the {2.q} family.\n",
      "45 is the sixth positive integer with a prime factorization of the form p2q, with p and q being prime.\n"
     ]
    }
   ],
   "source": [
    "for i in range(5):\n",
    "    number = random.randint(0,100)\n",
    "    url = f\"http://numbersapi.com/{number}/math\"\n",
    "    response = requests.get(url)\n",
    "    text = response.content.decode(\"utf-8\")\n",
    "    print(text)"
   ]
  },
  {
   "cell_type": "markdown",
   "metadata": {},
   "source": [
    "# On essaye year"
   ]
  },
  {
   "cell_type": "code",
   "execution_count": 27,
   "metadata": {},
   "outputs": [
    {
     "name": "stdout",
     "output_type": "stream",
     "text": [
      "1996 is the year that Tung Chee Hwa is appointed to become the new leader of Hong Kong after it reverts to Chinese rule in 1997 on December 11th.\n",
      "2007 is the year that Iran announces it will release the British sailors and marines that they captured on March 23 on April 4th.\n",
      "2004 is the year that Hurricane Ivan forms.\n",
      "1995 is the year that the first ever full length computer animated feature film \"Toy Story\" was released by Pixar Animation Studios and Walt Disney Pictures.\n",
      "2020 is the year that India's space agency, ISRO, plans to send a manned space mission to the moon in this year.\n"
     ]
    }
   ],
   "source": [
    "for i in range(5):\n",
    "    number = random.randint(1995,2025)\n",
    "    url = f\"http://numbersapi.com/{number}/year\"\n",
    "    response = requests.get(url)\n",
    "    text = response.content.decode(\"utf-8\")\n",
    "    print(text)"
   ]
  },
  {
   "cell_type": "code",
   "execution_count": null,
   "metadata": {},
   "outputs": [],
   "source": []
  }
 ],
 "metadata": {
  "kernelspec": {
   "display_name": "Python 3",
   "language": "python",
   "name": "python3"
  },
  "language_info": {
   "codemirror_mode": {
    "name": "ipython",
    "version": 3
   },
   "file_extension": ".py",
   "mimetype": "text/x-python",
   "name": "python",
   "nbconvert_exporter": "python",
   "pygments_lexer": "ipython3",
   "version": "3.11.4"
  },
  "orig_nbformat": 4
 },
 "nbformat": 4,
 "nbformat_minor": 2
}
